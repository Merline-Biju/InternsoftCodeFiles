{
  "nbformat": 4,
  "nbformat_minor": 0,
  "metadata": {
    "kernelspec": {
      "display_name": "Python 3",
      "language": "python",
      "name": "python3"
    },
    "language_info": {
      "codemirror_mode": {
        "name": "ipython",
        "version": 3
      },
      "file_extension": ".py",
      "mimetype": "text/x-python",
      "name": "python",
      "nbconvert_exporter": "python",
      "pygments_lexer": "ipython3",
      "version": "3.7.6"
    },
    "colab": {
      "name": "Day1code.ipynb",
      "provenance": []
    }
  },
  "cells": [
    {
      "cell_type": "markdown",
      "metadata": {
        "id": "FosfBugIcnxE"
      },
      "source": [
        "Datatypes"
      ]
    },
    {
      "cell_type": "code",
      "metadata": {
        "id": "drii2bgOj_JG",
        "colab": {
          "base_uri": "https://localhost:8080/"
        },
        "outputId": "84418048-f596-4bc0-81d1-a83643c897c0"
      },
      "source": [
        "# integers\n",
        "x = 5\n",
        "type(x)"
      ],
      "execution_count": null,
      "outputs": [
        {
          "output_type": "execute_result",
          "data": {
            "text/plain": [
              "int"
            ]
          },
          "metadata": {
            "tags": []
          },
          "execution_count": 1
        }
      ]
    },
    {
      "cell_type": "code",
      "metadata": {
        "id": "5SOghXAvj_JH",
        "colab": {
          "base_uri": "https://localhost:8080/"
        },
        "outputId": "6f0c4252-3533-459c-c335-add8d4fbdfdf"
      },
      "source": [
        "# float\n",
        "x = 5.25\n",
        "type(x)"
      ],
      "execution_count": null,
      "outputs": [
        {
          "output_type": "execute_result",
          "data": {
            "text/plain": [
              "float"
            ]
          },
          "metadata": {
            "tags": []
          },
          "execution_count": 2
        }
      ]
    },
    {
      "cell_type": "code",
      "metadata": {
        "id": "UT2pjjpbj_JJ",
        "colab": {
          "base_uri": "https://localhost:8080/"
        },
        "outputId": "17d7afba-6c26-438d-937a-45349dd5000f"
      },
      "source": [
        "# boolean\n",
        "a = True\n",
        "b = False\n",
        "\n",
        "type(a)"
      ],
      "execution_count": null,
      "outputs": [
        {
          "output_type": "execute_result",
          "data": {
            "text/plain": [
              "bool"
            ]
          },
          "metadata": {
            "tags": []
          },
          "execution_count": 3
        }
      ]
    },
    {
      "cell_type": "code",
      "metadata": {
        "id": "Nu9sYd8Kj_JK",
        "colab": {
          "base_uri": "https://localhost:8080/"
        },
        "outputId": "958672b8-cba3-47a5-c818-12beef6134d8"
      },
      "source": [
        "# string\n",
        "name = 'Merl'\n",
        "type(name)"
      ],
      "execution_count": null,
      "outputs": [
        {
          "output_type": "execute_result",
          "data": {
            "text/plain": [
              "str"
            ]
          },
          "metadata": {
            "tags": []
          },
          "execution_count": 4
        }
      ]
    },
    {
      "cell_type": "code",
      "metadata": {
        "id": "j1Pfv9lzj_JK",
        "colab": {
          "base_uri": "https://localhost:8080/"
        },
        "outputId": "371c16c1-4fd5-4d25-d039-9cc020e1c4e3"
      },
      "source": [
        "# complex numbers: note the use of `j` to specify the imaginary part\n",
        "x = 7.9 - 12.5j\n",
        "type(x)"
      ],
      "execution_count": 1,
      "outputs": [
        {
          "output_type": "execute_result",
          "data": {
            "text/plain": [
              "complex"
            ]
          },
          "metadata": {
            "tags": []
          },
          "execution_count": 1
        }
      ]
    },
    {
      "cell_type": "code",
      "metadata": {
        "scrolled": true,
        "id": "_Q0OWJHaj_JK",
        "colab": {
          "base_uri": "https://localhost:8080/"
        },
        "outputId": "cb798b5d-138b-42ca-9f20-879ff3c803fe"
      },
      "source": [
        "print(x)"
      ],
      "execution_count": 2,
      "outputs": [
        {
          "output_type": "stream",
          "text": [
            "(7.9-12.5j)\n"
          ],
          "name": "stdout"
        }
      ]
    },
    {
      "cell_type": "code",
      "metadata": {
        "scrolled": true,
        "id": "6vh_uTzyj_JL",
        "colab": {
          "base_uri": "https://localhost:8080/"
        },
        "outputId": "f40e6bee-d1c4-4193-c6c6-51b2f11ddd50"
      },
      "source": [
        "print(x.real, x.imag)"
      ],
      "execution_count": 3,
      "outputs": [
        {
          "output_type": "stream",
          "text": [
            "7.9 -12.5\n"
          ],
          "name": "stdout"
        }
      ]
    },
    {
      "cell_type": "markdown",
      "metadata": {
        "id": "a5bxi0A-cg2x"
      },
      "source": [
        "Variables"
      ]
    },
    {
      "cell_type": "code",
      "metadata": {
        "id": "jp_SBvFkj_JL",
        "colab": {
          "base_uri": "https://localhost:8080/"
        },
        "outputId": "e8ed53d8-8cff-47a6-db5e-f51a90ac229f"
      },
      "source": [
        "#defining\n",
        "ten = 10\n",
        "five = 2\n",
        "print(ten)\n",
        "five"
      ],
      "execution_count": 4,
      "outputs": [
        {
          "output_type": "stream",
          "text": [
            "10\n"
          ],
          "name": "stdout"
        },
        {
          "output_type": "execute_result",
          "data": {
            "text/plain": [
              "2"
            ]
          },
          "metadata": {
            "tags": []
          },
          "execution_count": 4
        }
      ]
    },
    {
      "cell_type": "code",
      "metadata": {
        "id": "5eZkC23_j_JL",
        "colab": {
          "base_uri": "https://localhost:8080/"
        },
        "outputId": "da8e4eec-65eb-4e4a-e696-ebcb2b4dcdd3"
      },
      "source": [
        "#dynamic typing\n",
        "five = 5\n",
        "five"
      ],
      "execution_count": 5,
      "outputs": [
        {
          "output_type": "execute_result",
          "data": {
            "text/plain": [
              "5"
            ]
          },
          "metadata": {
            "tags": []
          },
          "execution_count": 5
        }
      ]
    },
    {
      "cell_type": "code",
      "metadata": {
        "id": "Pg-VyH9rj_JM",
        "colab": {
          "base_uri": "https://localhost:8080/",
          "height": 35
        },
        "outputId": "ef26a412-c2a5-42e1-9795-07874c0fd254"
      },
      "source": [
        "five = 'five'\n",
        "five"
      ],
      "execution_count": 6,
      "outputs": [
        {
          "output_type": "execute_result",
          "data": {
            "application/vnd.google.colaboratory.intrinsic+json": {
              "type": "string"
            },
            "text/plain": [
              "'five'"
            ]
          },
          "metadata": {
            "tags": []
          },
          "execution_count": 6
        }
      ]
    },
    {
      "cell_type": "code",
      "metadata": {
        "id": "U97mnpyGj_JM",
        "colab": {
          "base_uri": "https://localhost:8080/",
          "height": 185
        },
        "outputId": "64ed51f1-4667-43e4-e0cd-c23881667394"
      },
      "source": [
        "#strong typing\n",
        "'Day ' + 1  #error"
      ],
      "execution_count": 7,
      "outputs": [
        {
          "output_type": "error",
          "ename": "TypeError",
          "evalue": "ignored",
          "traceback": [
            "\u001b[0;31m---------------------------------------------------------------------------\u001b[0m",
            "\u001b[0;31mTypeError\u001b[0m                                 Traceback (most recent call last)",
            "\u001b[0;32m<ipython-input-7-20a6a30c24be>\u001b[0m in \u001b[0;36m<module>\u001b[0;34m()\u001b[0m\n\u001b[1;32m      1\u001b[0m \u001b[0;31m#strong typing\u001b[0m\u001b[0;34m\u001b[0m\u001b[0;34m\u001b[0m\u001b[0;34m\u001b[0m\u001b[0m\n\u001b[0;32m----> 2\u001b[0;31m \u001b[0;34m'Day '\u001b[0m \u001b[0;34m+\u001b[0m \u001b[0;36m1\u001b[0m\u001b[0;34m\u001b[0m\u001b[0;34m\u001b[0m\u001b[0m\n\u001b[0m",
            "\u001b[0;31mTypeError\u001b[0m: can only concatenate str (not \"int\") to str"
          ]
        }
      ]
    },
    {
      "cell_type": "code",
      "metadata": {
        "id": "2-pIi83tj_JM",
        "colab": {
          "base_uri": "https://localhost:8080/",
          "height": 35
        },
        "outputId": "6594c1fc-1b7f-486a-d39e-0e2a84cce770"
      },
      "source": [
        "'Day ' + str(1)"
      ],
      "execution_count": 8,
      "outputs": [
        {
          "output_type": "execute_result",
          "data": {
            "application/vnd.google.colaboratory.intrinsic+json": {
              "type": "string"
            },
            "text/plain": [
              "'Day 1'"
            ]
          },
          "metadata": {
            "tags": []
          },
          "execution_count": 8
        }
      ]
    },
    {
      "cell_type": "markdown",
      "metadata": {
        "id": "v6-CDst9d1MR"
      },
      "source": [
        "Expressions"
      ]
    },
    {
      "cell_type": "code",
      "metadata": {
        "id": "bT60uzuQj_JN",
        "colab": {
          "base_uri": "https://localhost:8080/"
        },
        "outputId": "2907ec76-1676-4a78-d6a6-0a9d4cbca358"
      },
      "source": [
        "#boolean evaluation\n",
        "True and True"
      ],
      "execution_count": 9,
      "outputs": [
        {
          "output_type": "execute_result",
          "data": {
            "text/plain": [
              "True"
            ]
          },
          "metadata": {
            "tags": []
          },
          "execution_count": 9
        }
      ]
    },
    {
      "cell_type": "code",
      "metadata": {
        "id": "zXKgZozgj_JN",
        "colab": {
          "base_uri": "https://localhost:8080/"
        },
        "outputId": "41021256-ebf5-4801-d5d3-755a8e9b4d25"
      },
      "source": [
        "True or False"
      ],
      "execution_count": 10,
      "outputs": [
        {
          "output_type": "execute_result",
          "data": {
            "text/plain": [
              "True"
            ]
          },
          "metadata": {
            "tags": []
          },
          "execution_count": 10
        }
      ]
    },
    {
      "cell_type": "code",
      "metadata": {
        "id": "uFKJLjY9j_JN",
        "colab": {
          "base_uri": "https://localhost:8080/"
        },
        "outputId": "62d26cba-dee9-475b-b822-fead60fbda8a"
      },
      "source": [
        "not True"
      ],
      "execution_count": 11,
      "outputs": [
        {
          "output_type": "execute_result",
          "data": {
            "text/plain": [
              "False"
            ]
          },
          "metadata": {
            "tags": []
          },
          "execution_count": 11
        }
      ]
    },
    {
      "cell_type": "code",
      "metadata": {
        "id": "aaZFd3eDj_JN",
        "colab": {
          "base_uri": "https://localhost:8080/"
        },
        "outputId": "3a735314-82ee-4531-a364-5a35f3d68730"
      },
      "source": [
        "not False"
      ],
      "execution_count": 12,
      "outputs": [
        {
          "output_type": "execute_result",
          "data": {
            "text/plain": [
              "True"
            ]
          },
          "metadata": {
            "tags": []
          },
          "execution_count": 12
        }
      ]
    },
    {
      "cell_type": "code",
      "metadata": {
        "id": "M3_ZRH22j_JN",
        "colab": {
          "base_uri": "https://localhost:8080/"
        },
        "outputId": "f3308812-0216-4635-9630-3aa0fe2dbe8b"
      },
      "source": [
        "True is True"
      ],
      "execution_count": 13,
      "outputs": [
        {
          "output_type": "execute_result",
          "data": {
            "text/plain": [
              "True"
            ]
          },
          "metadata": {
            "tags": []
          },
          "execution_count": 13
        }
      ]
    },
    {
      "cell_type": "code",
      "metadata": {
        "id": "tF-bnpl3j_JO",
        "colab": {
          "base_uri": "https://localhost:8080/"
        },
        "outputId": "f4d46796-be47-4c6e-a353-b132fe033d66"
      },
      "source": [
        "True is False"
      ],
      "execution_count": 14,
      "outputs": [
        {
          "output_type": "execute_result",
          "data": {
            "text/plain": [
              "False"
            ]
          },
          "metadata": {
            "tags": []
          },
          "execution_count": 14
        }
      ]
    },
    {
      "cell_type": "code",
      "metadata": {
        "id": "ZiA1nzyMj_JO",
        "colab": {
          "base_uri": "https://localhost:8080/"
        },
        "outputId": "3c54efdf-1d0b-49b8-9b84-a8f50a6d0243"
      },
      "source": [
        "'a' is 'a'"
      ],
      "execution_count": 15,
      "outputs": [
        {
          "output_type": "execute_result",
          "data": {
            "text/plain": [
              "True"
            ]
          },
          "metadata": {
            "tags": []
          },
          "execution_count": 15
        }
      ]
    },
    {
      "cell_type": "markdown",
      "metadata": {
        "id": "nCE6oBe6eFLA"
      },
      "source": [
        "Branching"
      ]
    },
    {
      "cell_type": "code",
      "metadata": {
        "id": "Kcqn8zxfj_JO",
        "colab": {
          "base_uri": "https://localhost:8080/"
        },
        "outputId": "3253c51f-e52e-462d-c136-013a72852e6f"
      },
      "source": [
        "#if-else\n",
        "i = -2\n",
        "if i < 0:\n",
        "    print('less than 0')\n",
        "elif i < 5:\n",
        "    print('less than 5')\n",
        "else:\n",
        "    print('5 or more')\n"
      ],
      "execution_count": 19,
      "outputs": [
        {
          "output_type": "stream",
          "text": [
            "less than 0\n"
          ],
          "name": "stdout"
        }
      ]
    },
    {
      "cell_type": "markdown",
      "metadata": {
        "id": "62REBWL3fPDv"
      },
      "source": [
        "Lists"
      ]
    },
    {
      "cell_type": "code",
      "metadata": {
        "id": "_zN83MJqj_JP",
        "colab": {
          "base_uri": "https://localhost:8080/"
        },
        "outputId": "8074cc0b-ec89-4af1-de29-aa47a92263ce"
      },
      "source": [
        "ls = []\n",
        "ls"
      ],
      "execution_count": 20,
      "outputs": [
        {
          "output_type": "execute_result",
          "data": {
            "text/plain": [
              "[]"
            ]
          },
          "metadata": {
            "tags": []
          },
          "execution_count": 20
        }
      ]
    },
    {
      "cell_type": "code",
      "metadata": {
        "id": "YiRLBqW_j_JP",
        "colab": {
          "base_uri": "https://localhost:8080/"
        },
        "outputId": "38d3bbbf-58e1-4d2e-8d4b-4420aeeb7c48"
      },
      "source": [
        "ls = list()\n",
        "ls"
      ],
      "execution_count": 21,
      "outputs": [
        {
          "output_type": "execute_result",
          "data": {
            "text/plain": [
              "[]"
            ]
          },
          "metadata": {
            "tags": []
          },
          "execution_count": 21
        }
      ]
    },
    {
      "cell_type": "code",
      "metadata": {
        "id": "W8PpB0jSj_JP",
        "colab": {
          "base_uri": "https://localhost:8080/"
        },
        "outputId": "cfcb2059-bde9-4a9f-fe17-28a5a2b0131b"
      },
      "source": [
        "lst = ['l', 'm', 'n']\n",
        "print(lst)\n",
        "type(lst)"
      ],
      "execution_count": 24,
      "outputs": [
        {
          "output_type": "stream",
          "text": [
            "['l', 'm', 'n']\n"
          ],
          "name": "stdout"
        },
        {
          "output_type": "execute_result",
          "data": {
            "text/plain": [
              "list"
            ]
          },
          "metadata": {
            "tags": []
          },
          "execution_count": 24
        }
      ]
    },
    {
      "cell_type": "code",
      "metadata": {
        "id": "UyreZz4nj_JQ",
        "colab": {
          "base_uri": "https://localhost:8080/"
        },
        "outputId": "0110f869-3fb1-4431-e0e4-7b1f7cb52177"
      },
      "source": [
        "ls = [5, 'b', 7]\n",
        "ls"
      ],
      "execution_count": 25,
      "outputs": [
        {
          "output_type": "execute_result",
          "data": {
            "text/plain": [
              "[5, 'b', 7]"
            ]
          },
          "metadata": {
            "tags": []
          },
          "execution_count": 25
        }
      ]
    },
    {
      "cell_type": "code",
      "metadata": {
        "id": "KNQA8E-Aj_JQ",
        "colab": {
          "base_uri": "https://localhost:8080/"
        },
        "outputId": "bd5479cb-a5e0-46e3-aeae-5f4a66497994"
      },
      "source": [
        "l2 = list(ls)  #error\n",
        "l2\n"
      ],
      "execution_count": 26,
      "outputs": [
        {
          "output_type": "execute_result",
          "data": {
            "text/plain": [
              "[5, 'b', 7]"
            ]
          },
          "metadata": {
            "tags": []
          },
          "execution_count": 26
        }
      ]
    },
    {
      "cell_type": "code",
      "metadata": {
        "id": "mJjXd3D6j_JQ",
        "colab": {
          "base_uri": "https://localhost:8080/"
        },
        "outputId": "5a11d41d-6b7e-4fca-da83-fff9afb36b2b"
      },
      "source": [
        "list('abcdef')"
      ],
      "execution_count": 27,
      "outputs": [
        {
          "output_type": "execute_result",
          "data": {
            "text/plain": [
              "['a', 'b', 'c', 'd', 'e', 'f']"
            ]
          },
          "metadata": {
            "tags": []
          },
          "execution_count": 27
        }
      ]
    },
    {
      "cell_type": "code",
      "metadata": {
        "id": "1AEhjKi-j_JR",
        "colab": {
          "base_uri": "https://localhost:8080/"
        },
        "outputId": "f9ccdcad-5687-4e92-f4da-6edb265ac85e"
      },
      "source": [
        "ls = [1, 2]\n",
        "print(ls)\n",
        "ls.append('c')\n",
        "print(ls)\n",
        "ls.append('d')\n",
        "print(ls)\n",
        "ls.insert(5, 5)\n",
        "ls"
      ],
      "execution_count": 29,
      "outputs": [
        {
          "output_type": "stream",
          "text": [
            "[1, 2]\n",
            "[1, 2, 'c']\n",
            "[1, 2, 'c', 'd']\n"
          ],
          "name": "stdout"
        },
        {
          "output_type": "execute_result",
          "data": {
            "text/plain": [
              "[1, 2, 'c', 'd', 5]"
            ]
          },
          "metadata": {
            "tags": []
          },
          "execution_count": 29
        }
      ]
    },
    {
      "cell_type": "code",
      "metadata": {
        "id": "wTqtmpV5j_JR",
        "colab": {
          "base_uri": "https://localhost:8080/"
        },
        "outputId": "76c80b69-dc43-480e-887b-4ef221d0c864"
      },
      "source": [
        "for i in ls:\n",
        "    print(i)"
      ],
      "execution_count": 30,
      "outputs": [
        {
          "output_type": "stream",
          "text": [
            "1\n",
            "2\n",
            "c\n",
            "d\n",
            "5\n"
          ],
          "name": "stdout"
        }
      ]
    },
    {
      "cell_type": "markdown",
      "metadata": {
        "id": "pAzXipNqhuY4"
      },
      "source": [
        "Loops"
      ]
    },
    {
      "cell_type": "code",
      "metadata": {
        "id": "yhpRULgkj_JS",
        "colab": {
          "base_uri": "https://localhost:8080/"
        },
        "outputId": "f334d814-61b8-4650-adc5-a61b80e75c3e"
      },
      "source": [
        "# Program to find the sum of all numbers stored in a list\n",
        "# using for loop\n",
        "# List of numbers\n",
        "num = [8, 6, 2, 4, 5, 7, 9, 1, 3]\n",
        "\n",
        "# variable to store the sum\n",
        "sum = 0\n",
        "\n",
        "# iterate over the list\n",
        "for i in num:\n",
        "    sum += i\n",
        "\n",
        "# Output: The sum is 48\n",
        "print(\"The sum is \", sum)\n",
        "sum\n"
      ],
      "execution_count": 31,
      "outputs": [
        {
          "output_type": "stream",
          "text": [
            "The sum is  45\n"
          ],
          "name": "stdout"
        },
        {
          "output_type": "execute_result",
          "data": {
            "text/plain": [
              "45"
            ]
          },
          "metadata": {
            "tags": []
          },
          "execution_count": 31
        }
      ]
    },
    {
      "cell_type": "code",
      "metadata": {
        "id": "9aa5idHaj_JS",
        "colab": {
          "base_uri": "https://localhost:8080/"
        },
        "outputId": "0d03aace-af3c-4480-fb6e-8d7986bd8173"
      },
      "source": [
        "digits = [2, 5, 8]\n",
        "\n",
        "for i in digits:\n",
        "    print(i)\n",
        "else:\n",
        "    print(\"No items left.\")"
      ],
      "execution_count": 32,
      "outputs": [
        {
          "output_type": "stream",
          "text": [
            "2\n",
            "5\n",
            "8\n",
            "No items left.\n"
          ],
          "name": "stdout"
        }
      ]
    },
    {
      "cell_type": "code",
      "metadata": {
        "id": "5xETTHucj_JT",
        "colab": {
          "base_uri": "https://localhost:8080/"
        },
        "outputId": "ebbab1f6-a7a8-412e-a415-530fe448b9f7"
      },
      "source": [
        "# Program to add natural numbers upto n\n",
        "# using while loop\n",
        "# sum = 1+2+3+...+n\n",
        "\n",
        "# To take input from the user,\n",
        "n = int(input(\"Enter n: \"))\n",
        "\n",
        "\n",
        "# initialize sum and counter\n",
        "sum = 0\n",
        "i = 1\n",
        "\n",
        "while i <= n:\n",
        "    sum += i\n",
        "    i+= 1    # update counter\n",
        "\n",
        "# print the sum\n",
        "print(\"The sum is \", sum)"
      ],
      "execution_count": 33,
      "outputs": [
        {
          "output_type": "stream",
          "text": [
            "Enter n: 10\n",
            "The sum is  55\n"
          ],
          "name": "stdout"
        }
      ]
    },
    {
      "cell_type": "markdown",
      "metadata": {
        "id": "ImojZX65imDe"
      },
      "source": [
        "The range() function"
      ]
    },
    {
      "cell_type": "code",
      "metadata": {
        "id": "o52qvsmQj_JT",
        "colab": {
          "base_uri": "https://localhost:8080/"
        },
        "outputId": "a50700e0-337b-4fc6-ce44-dda2d9bea628"
      },
      "source": [
        "print(range(15))"
      ],
      "execution_count": 34,
      "outputs": [
        {
          "output_type": "stream",
          "text": [
            "range(0, 15)\n"
          ],
          "name": "stdout"
        }
      ]
    },
    {
      "cell_type": "code",
      "metadata": {
        "id": "21dUbXORj_JT",
        "colab": {
          "base_uri": "https://localhost:8080/"
        },
        "outputId": "65d9fda7-3975-42f2-8be2-01cd132e1c26"
      },
      "source": [
        "print(list(range(15)))"
      ],
      "execution_count": 35,
      "outputs": [
        {
          "output_type": "stream",
          "text": [
            "[0, 1, 2, 3, 4, 5, 6, 7, 8, 9, 10, 11, 12, 13, 14]\n"
          ],
          "name": "stdout"
        }
      ]
    },
    {
      "cell_type": "code",
      "metadata": {
        "id": "rfWiSVqej_JT",
        "colab": {
          "base_uri": "https://localhost:8080/"
        },
        "outputId": "8032889c-5a1d-4a86-c407-36ac8d428d52"
      },
      "source": [
        "print(list(range(2, 12)))"
      ],
      "execution_count": 36,
      "outputs": [
        {
          "output_type": "stream",
          "text": [
            "[2, 3, 4, 5, 6, 7, 8, 9, 10, 11]\n"
          ],
          "name": "stdout"
        }
      ]
    },
    {
      "cell_type": "code",
      "metadata": {
        "id": "S0ruqgaxj_JU",
        "colab": {
          "base_uri": "https://localhost:8080/"
        },
        "outputId": "f073201a-8467-48ea-fdb3-b2dd1e0d9c1e"
      },
      "source": [
        "print(list(range(5, 30, 5)))"
      ],
      "execution_count": 37,
      "outputs": [
        {
          "output_type": "stream",
          "text": [
            "[5, 10, 15, 20, 25]\n"
          ],
          "name": "stdout"
        }
      ]
    },
    {
      "cell_type": "code",
      "metadata": {
        "id": "gNRi6CUdj_JU",
        "colab": {
          "base_uri": "https://localhost:8080/"
        },
        "outputId": "27c54049-8494-4307-9164-c4acf6ed0e4c"
      },
      "source": [
        "# Program to iterate through a list using indexing\n",
        "\n",
        "genre = ['kpop', 'rock', 'jazz','classical']\n",
        "\n",
        "# iterate over the list using index\n",
        "for i in range(len(genre)):\n",
        "    print(\"I like \", genre[i])"
      ],
      "execution_count": 39,
      "outputs": [
        {
          "output_type": "stream",
          "text": [
            "I like  kpop\n",
            "I like  rock\n",
            "I like  jazz\n",
            "I like  classical\n"
          ],
          "name": "stdout"
        }
      ]
    },
    {
      "cell_type": "markdown",
      "metadata": {
        "id": "KgXBA1RvjToY"
      },
      "source": [
        "break and continue statements"
      ]
    },
    {
      "cell_type": "code",
      "metadata": {
        "id": "Pw0nHfoOj_JU",
        "colab": {
          "base_uri": "https://localhost:8080/"
        },
        "outputId": "b41f9dc0-79e8-440f-9e10-eb244b43ac58"
      },
      "source": [
        "# Use of break statement inside loop\n",
        "\n",
        "for val in \"MERLINE\":\n",
        "    if val == \"I\":\n",
        "        break\n",
        "    print(val)\n",
        "\n",
        "print(\"The end\")"
      ],
      "execution_count": 41,
      "outputs": [
        {
          "output_type": "stream",
          "text": [
            "M\n",
            "E\n",
            "R\n",
            "L\n",
            "The end\n"
          ],
          "name": "stdout"
        }
      ]
    },
    {
      "cell_type": "code",
      "metadata": {
        "id": "XwFPuLOOj_JV",
        "colab": {
          "base_uri": "https://localhost:8080/"
        },
        "outputId": "e00a9ff5-9948-47bc-e80f-99fbb37a7244"
      },
      "source": [
        "# Program to show the use of continue statement inside loops\n",
        "\n",
        "for val in \"MERLINE\":\n",
        "    if val == \"L\":\n",
        "        continue\n",
        "    print(val)\n",
        "\n",
        "print(\"The end\")"
      ],
      "execution_count": 43,
      "outputs": [
        {
          "output_type": "stream",
          "text": [
            "M\n",
            "E\n",
            "R\n",
            "I\n",
            "N\n",
            "E\n",
            "The end\n"
          ],
          "name": "stdout"
        }
      ]
    },
    {
      "cell_type": "markdown",
      "metadata": {
        "id": "wibkNaZfj6k-"
      },
      "source": [
        "Taking input from user"
      ]
    },
    {
      "cell_type": "code",
      "metadata": {
        "id": "TmCxhzqNj_JV",
        "colab": {
          "base_uri": "https://localhost:8080/"
        },
        "outputId": "cadf318f-24c7-45ba-aae4-b0e5a4666111"
      },
      "source": [
        "# Program to take the input string from the user.\n",
        "\n",
        "name = input(\"What is your name?\\n \")\n",
        "type(name)"
      ],
      "execution_count": 44,
      "outputs": [
        {
          "output_type": "stream",
          "text": [
            "What is your name?\n",
            " Merline\n"
          ],
          "name": "stdout"
        },
        {
          "output_type": "execute_result",
          "data": {
            "text/plain": [
              "str"
            ]
          },
          "metadata": {
            "tags": []
          },
          "execution_count": 44
        }
      ]
    },
    {
      "cell_type": "code",
      "metadata": {
        "id": "UxarhVTAj_JW",
        "colab": {
          "base_uri": "https://localhost:8080/"
        },
        "outputId": "3ecce627-b757-4e17-f829-b46f5ea04a65"
      },
      "source": [
        "# Program to read integers from user\n",
        "\n",
        "age = int(input(\"What is your age? \"))\n",
        "print (\"Your age is: \", age)\n",
        "type(age)"
      ],
      "execution_count": 46,
      "outputs": [
        {
          "output_type": "stream",
          "text": [
            "What is your age? 22\n",
            "Your age is:  22\n"
          ],
          "name": "stdout"
        },
        {
          "output_type": "execute_result",
          "data": {
            "text/plain": [
              "int"
            ]
          },
          "metadata": {
            "tags": []
          },
          "execution_count": 46
        }
      ]
    },
    {
      "cell_type": "code",
      "metadata": {
        "id": "NYe2BiUfj_JX",
        "colab": {
          "base_uri": "https://localhost:8080/"
        },
        "outputId": "0f2f7842-60a8-4b76-c5ee-4b6c050d4ae3"
      },
      "source": [
        "# Let's have one more example\n",
        "\n",
        "name = input(\"What is your name? \")\n",
        "print (\"Hi \"+ name + \"! It was nice talking you.\")\n",
        "age = input(\"What is your age? \")\n",
        "print(\"Hey, you are already \" + age + \" years old \" + name + \"!\")\n"
      ],
      "execution_count": 47,
      "outputs": [
        {
          "output_type": "stream",
          "text": [
            "What is your name? Merline\n",
            "Hi Merline! It was nice talking you.\n",
            "What is your age? 22\n",
            "Hey, you are already 22 years old Merline!\n"
          ],
          "name": "stdout"
        }
      ]
    }
  ]
}
