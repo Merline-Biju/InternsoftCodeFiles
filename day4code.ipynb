{
  "nbformat": 4,
  "nbformat_minor": 0,
  "metadata": {
    "colab": {
      "name": "session14.ipynb",
      "provenance": [],
      "collapsed_sections": [],
      "include_colab_link": true
    },
    "kernelspec": {
      "name": "python3",
      "display_name": "Python 3"
    }
  },
  "cells": [
    {
      "cell_type": "markdown",
      "metadata": {
        "id": "view-in-github",
        "colab_type": "text"
      },
      "source": [
        "<a href=\"https://colab.research.google.com/github/Merline-Biju/InternsoftCodeFiles/blob/main/day4code.ipynb\" target=\"_parent\"><img src=\"https://colab.research.google.com/assets/colab-badge.svg\" alt=\"Open In Colab\"/></a>"
      ]
    },
    {
      "cell_type": "markdown",
      "metadata": {
        "id": "Q1NJl-FjlaCN"
      },
      "source": [
        "# **CLASS**"
      ]
    },
    {
      "cell_type": "code",
      "metadata": {
        "colab": {
          "base_uri": "https://localhost:8080/"
        },
        "id": "DDSCO6HYh6Ef",
        "outputId": "288f8861-cae1-4f31-c4bb-a7e810d4d27f"
      },
      "source": [
        "class Person:\n",
        "    pass\n",
        "\n",
        "john_doe = Person()\n",
        "john_doe.name = \"Alec\"\n",
        "john_doe.surname = \"Baldwin\"\n",
        "john_doe.year_of_birth = 1958\n",
        "\n",
        "\n",
        "print(john_doe)\n",
        "print(\"%s %s was born in %d.\" %\n",
        "      (john_doe.name, john_doe.surname, john_doe.year_of_birth))"
      ],
      "execution_count": 2,
      "outputs": [
        {
          "output_type": "stream",
          "text": [
            "<__main__.Person object at 0x7fe7dd26ecd0>\n",
            "Alec Baldwin was born in 1958.\n"
          ],
          "name": "stdout"
        }
      ]
    },
    {
      "cell_type": "code",
      "metadata": {
        "id": "riBbTwbym6pX"
      },
      "source": [
        "class Person:\n",
        "    def __init__(self, name, surname, year_of_birth):\n",
        "        self.name = name\n",
        "        self.surname = surname\n",
        "        self.year_of_birth = year_of_birth"
      ],
      "execution_count": 3,
      "outputs": []
    },
    {
      "cell_type": "code",
      "metadata": {
        "colab": {
          "base_uri": "https://localhost:8080/"
        },
        "id": "SNZOb_fynLJ-",
        "outputId": "7834eacd-73a9-4dbe-b0f7-04b67278101c"
      },
      "source": [
        "alec = Person(\"Alec\", \"Baldwin\", 1958)\n",
        "print(alec)\n",
        "print(\"%s %s was born in %d\"% (alec.name, alec.surname, alec.year_of_birth))\n"
      ],
      "execution_count": 4,
      "outputs": [
        {
          "output_type": "stream",
          "text": [
            "<__main__.Person object at 0x7fe7dd285710>\n",
            "Alec Baldwin was born in 1958\n"
          ],
          "name": "stdout"
        }
      ]
    },
    {
      "cell_type": "code",
      "metadata": {
        "colab": {
          "base_uri": "https://localhost:8080/"
        },
        "id": "RF2Sv4PSnlnN",
        "outputId": "9f72c3b3-bf09-4715-b162-2d626be42f15"
      },
      "source": [
        "merl = Person(\"Merline\", \"Biju\", 1999)\n",
        "print(merl)\n",
        "print(\"%s %s was born in %d\"% (merl.name, merl.surname, merl.year_of_birth))\n"
      ],
      "execution_count": 6,
      "outputs": [
        {
          "output_type": "stream",
          "text": [
            "<__main__.Person object at 0x7fe7dd256a50>\n",
            "Merline Biju was born in 1999\n"
          ],
          "name": "stdout"
        }
      ]
    },
    {
      "cell_type": "markdown",
      "metadata": {
        "id": "qdBHPAVOoBwa"
      },
      "source": [
        "# **METHODS**"
      ]
    },
    {
      "cell_type": "code",
      "metadata": {
        "colab": {
          "base_uri": "https://localhost:8080/"
        },
        "id": "bSTbkh9PnxQJ",
        "outputId": "f4185005-f109-4644-d7be-27d75440ee29"
      },
      "source": [
        "class Person:\n",
        "    def __init__(self, name, surname, year_of_birth = 1998):\n",
        "        self.name = name\n",
        "        self.surname = surname\n",
        "        self.year_of_birth = year_of_birth\n",
        "\n",
        "    def age(self, current_year):\n",
        "        return (\"Age \" + str(current_year - self.year_of_birth))\n",
        "    \n",
        "    def __str__(self):\n",
        "        return \"%s %s was born in %d.\" % (self.name, self.surname, self.year_of_birth)\n",
        "    \n",
        "merl = Person(\"Merline\", \"Biju\", 1999)\n",
        "print(merl)\n",
        "print(merl.age(2021))\n",
        "\n",
        "print(\"\\n\")\n",
        "\n",
        "tes = Person(\"Tesline\", \"Biju\")\n",
        "print(tes)\n",
        "print(tes.age(2021))"
      ],
      "execution_count": 9,
      "outputs": [
        {
          "output_type": "stream",
          "text": [
            "Merline Biju was born in 1999.\n",
            "Age 22\n",
            "\n",
            "\n",
            "Tesline Biju was born in 1998.\n",
            "Age 23\n"
          ],
          "name": "stdout"
        }
      ]
    },
    {
      "cell_type": "markdown",
      "metadata": {
        "id": "5xam8Yt6p8xr"
      },
      "source": [
        "# **INHERITANCE**"
      ]
    },
    {
      "cell_type": "code",
      "metadata": {
        "colab": {
          "base_uri": "https://localhost:8080/"
        },
        "id": "ucIjsYswoPgU",
        "outputId": "5ceee570-5386-4072-b796-b8634b6f278d"
      },
      "source": [
        "class Student(Person):\n",
        "    def __init__(self, student_id, *args, **kwargs):\n",
        "        super(Student, self).__init__(*args, **kwargs)\n",
        "        self._student_id = student_id\n",
        "        \n",
        "charlie = Student(1, 'Charlie', 'Brown', 2006)\n",
        "print(charlie)\n",
        "print(type(charlie))\n",
        "print(isinstance(charlie, Student))\n",
        "print(isinstance(charlie, Person))\n",
        "print(isinstance(charlie, object))"
      ],
      "execution_count": 10,
      "outputs": [
        {
          "output_type": "stream",
          "text": [
            "Charlie Brown was born in 2006.\n",
            "<class '__main__.Student'>\n",
            "True\n",
            "True\n",
            "True\n"
          ],
          "name": "stdout"
        }
      ]
    },
    {
      "cell_type": "code",
      "metadata": {
        "colab": {
          "base_uri": "https://localhost:8080/"
        },
        "id": "yw0Tx9-YqF7t",
        "outputId": "5bdced4d-5f08-423f-ab92-973c400f2a0d"
      },
      "source": [
        "class Student(Person):\n",
        "    def __init__(self, student_id, *args, **kwargs):\n",
        "        super(Student, self).__init__(*args, **kwargs)\n",
        "        self._student_id = student_id\n",
        "        \n",
        "    def __str__(self):\n",
        "        return super(Student, self).__str__() + \" And has ID: %d\" % self._student_id\n",
        "        \n",
        "charlie = Student(1, 'Charlie', 'Brown', 2006)\n",
        "print(charlie)"
      ],
      "execution_count": 11,
      "outputs": [
        {
          "output_type": "stream",
          "text": [
            "Charlie Brown was born in 2006. And has ID: 1\n"
          ],
          "name": "stdout"
        }
      ]
    },
    {
      "cell_type": "markdown",
      "metadata": {
        "id": "2HGsIofNrzQs"
      },
      "source": [
        "# **ENCAPSULATION**"
      ]
    },
    {
      "cell_type": "code",
      "metadata": {
        "id": "mFiJDwHJrqFW"
      },
      "source": [
        "class Car:\n",
        "  def __init__(self, name, speed):\n",
        "    self.name = name\n",
        "    self.speed = speed\n",
        "  \n",
        "  def setname(self, name):\n",
        "    self.name = name\n",
        "  \n",
        "  def setspeed(self, speed):\n",
        "    self.speed = speed\n",
        "\n",
        "  def getname(self):\n",
        "    return \"Name : \" + str(self.name)\n",
        "  \n",
        "  def getspeed(self):\n",
        "    return \"Speed : \" + str(self.speed) + \"kmph\""
      ],
      "execution_count": 12,
      "outputs": []
    },
    {
      "cell_type": "code",
      "metadata": {
        "colab": {
          "base_uri": "https://localhost:8080/"
        },
        "id": "cJWqqbycteAp",
        "outputId": "156c006b-0e82-4ed7-8c26-feef729010d9"
      },
      "source": [
        "car = Car('BMW', 128)\n",
        "print(car.getname())\n",
        "print(car.getspeed())"
      ],
      "execution_count": 13,
      "outputs": [
        {
          "output_type": "stream",
          "text": [
            "Name : BMW\n",
            "Speed : 128kmph\n"
          ],
          "name": "stdout"
        }
      ]
    },
    {
      "cell_type": "code",
      "metadata": {
        "colab": {
          "base_uri": "https://localhost:8080/"
        },
        "id": "HvaMdPu7tk0K",
        "outputId": "44336a07-5415-43af-ad60-14bd2544a6c8"
      },
      "source": [
        "car.setname('Lamborgini')\n",
        "car.setspeed('140')\n",
        "print(car.getname())\n",
        "print(car.getspeed())"
      ],
      "execution_count": 14,
      "outputs": [
        {
          "output_type": "stream",
          "text": [
            "Name : Lamborgini\n",
            "Speed : 140kmph\n"
          ],
          "name": "stdout"
        }
      ]
    },
    {
      "cell_type": "markdown",
      "metadata": {
        "id": "BCOOr-pquYN0"
      },
      "source": [
        "# **POLYMORPHISM AND DUCKTYPING**"
      ]
    },
    {
      "cell_type": "code",
      "metadata": {
        "colab": {
          "base_uri": "https://localhost:8080/"
        },
        "id": "R1xl5u-qt8yJ",
        "outputId": "db4d1933-7ce3-434b-cfef-66ca073693cc"
      },
      "source": [
        "def plusPolymorphism(a, b):\n",
        "    return a + b\n",
        "\n",
        "print(plusPolymorphism(1, 1))\n",
        "print(plusPolymorphism([\"a\", \"b\", \"c\"], [\"d\", \"e\"]))\n",
        "print(plusPolymorphism(\"abra\", \"cadabra\"))"
      ],
      "execution_count": 15,
      "outputs": [
        {
          "output_type": "stream",
          "text": [
            "2\n",
            "['a', 'b', 'c', 'd', 'e']\n",
            "abracadabra\n"
          ],
          "name": "stdout"
        }
      ]
    },
    {
      "cell_type": "markdown",
      "metadata": {
        "id": "ga2jxUezuquC"
      },
      "source": [
        "# **FILES**"
      ]
    },
    {
      "cell_type": "code",
      "metadata": {
        "colab": {
          "base_uri": "https://localhost:8080/"
        },
        "id": "506dsjJ4ugjF",
        "outputId": "95f857b4-f946-4498-d70c-23cd3bd9d5d3"
      },
      "source": [
        "%%writefile superman.txt\n",
        "Hello, this is a quick superman test file"
      ],
      "execution_count": 16,
      "outputs": [
        {
          "output_type": "stream",
          "text": [
            "Writing superman.txt\n"
          ],
          "name": "stdout"
        }
      ]
    },
    {
      "cell_type": "code",
      "metadata": {
        "id": "X_Cc8l-XvyNO"
      },
      "source": [
        "my_file = open('superman.txt')"
      ],
      "execution_count": 17,
      "outputs": []
    },
    {
      "cell_type": "code",
      "metadata": {
        "colab": {
          "base_uri": "https://localhost:8080/"
        },
        "id": "7gfrezp-vyKb",
        "outputId": "2340b7b8-17e7-4dcb-d622-d2bf67ab1aad"
      },
      "source": [
        "my_file"
      ],
      "execution_count": 18,
      "outputs": [
        {
          "output_type": "execute_result",
          "data": {
            "text/plain": [
              "<_io.TextIOWrapper name='superman.txt' mode='r' encoding='UTF-8'>"
            ]
          },
          "metadata": {
            "tags": []
          },
          "execution_count": 18
        }
      ]
    },
    {
      "cell_type": "code",
      "metadata": {
        "colab": {
          "base_uri": "https://localhost:8080/",
          "height": 35
        },
        "id": "u-gRgGxOvyIC",
        "outputId": "93fe9c5b-745d-4e6a-9340-c433ed2899b0"
      },
      "source": [
        "my_file.read()"
      ],
      "execution_count": 19,
      "outputs": [
        {
          "output_type": "execute_result",
          "data": {
            "application/vnd.google.colaboratory.intrinsic+json": {
              "type": "string"
            },
            "text/plain": [
              "'Hello, this is a quick superman test file'"
            ]
          },
          "metadata": {
            "tags": []
          },
          "execution_count": 19
        }
      ]
    },
    {
      "cell_type": "code",
      "metadata": {
        "colab": {
          "base_uri": "https://localhost:8080/",
          "height": 35
        },
        "id": "wwBr7_aqvx_L",
        "outputId": "84cc42bc-5b1b-43c8-cab0-f1a1419969ca"
      },
      "source": [
        "my_file.read()"
      ],
      "execution_count": 20,
      "outputs": [
        {
          "output_type": "execute_result",
          "data": {
            "application/vnd.google.colaboratory.intrinsic+json": {
              "type": "string"
            },
            "text/plain": [
              "''"
            ]
          },
          "metadata": {
            "tags": []
          },
          "execution_count": 20
        }
      ]
    },
    {
      "cell_type": "code",
      "metadata": {
        "colab": {
          "base_uri": "https://localhost:8080/",
          "height": 35
        },
        "id": "jQLNeKsnwF6z",
        "outputId": "b30050f8-a217-45a5-a5b8-3c1e57cee34d"
      },
      "source": [
        "my_file.read()"
      ],
      "execution_count": 21,
      "outputs": [
        {
          "output_type": "execute_result",
          "data": {
            "application/vnd.google.colaboratory.intrinsic+json": {
              "type": "string"
            },
            "text/plain": [
              "''"
            ]
          },
          "metadata": {
            "tags": []
          },
          "execution_count": 21
        }
      ]
    },
    {
      "cell_type": "code",
      "metadata": {
        "colab": {
          "base_uri": "https://localhost:8080/"
        },
        "id": "3Nb7hDKHwIxd",
        "outputId": "c287dda0-0b45-4758-d781-dbe4c29f21d2"
      },
      "source": [
        "my_file.seek(0)"
      ],
      "execution_count": null,
      "outputs": [
        {
          "output_type": "execute_result",
          "data": {
            "text/plain": [
              "0"
            ]
          },
          "metadata": {
            "tags": []
          },
          "execution_count": 44
        }
      ]
    },
    {
      "cell_type": "code",
      "metadata": {
        "colab": {
          "base_uri": "https://localhost:8080/",
          "height": 35
        },
        "id": "AJ_1n1YcwSTl",
        "outputId": "fe9b0af2-724c-4f93-d2a2-3c23239b5d27"
      },
      "source": [
        "my_file.read()"
      ],
      "execution_count": null,
      "outputs": [
        {
          "output_type": "execute_result",
          "data": {
            "application/vnd.google.colaboratory.intrinsic+json": {
              "type": "string"
            },
            "text/plain": [
              "'Hello, this is a quick superman test file'"
            ]
          },
          "metadata": {
            "tags": []
          },
          "execution_count": 45
        }
      ]
    },
    {
      "cell_type": "code",
      "metadata": {
        "colab": {
          "base_uri": "https://localhost:8080/",
          "height": 35
        },
        "id": "KHcoxf0RwXV8",
        "outputId": "56745278-088c-42ec-ef6b-910dc577c9a5"
      },
      "source": [
        "my_file.read()"
      ],
      "execution_count": null,
      "outputs": [
        {
          "output_type": "execute_result",
          "data": {
            "application/vnd.google.colaboratory.intrinsic+json": {
              "type": "string"
            },
            "text/plain": [
              "''"
            ]
          },
          "metadata": {
            "tags": []
          },
          "execution_count": 46
        }
      ]
    },
    {
      "cell_type": "code",
      "metadata": {
        "colab": {
          "base_uri": "https://localhost:8080/"
        },
        "id": "Tw7MO2kwwZHl",
        "outputId": "8b7c51bb-a6bd-451d-f782-901a3780f517"
      },
      "source": [
        "my_file.seek(1)"
      ],
      "execution_count": null,
      "outputs": [
        {
          "output_type": "execute_result",
          "data": {
            "text/plain": [
              "1"
            ]
          },
          "metadata": {
            "tags": []
          },
          "execution_count": 47
        }
      ]
    },
    {
      "cell_type": "code",
      "metadata": {
        "colab": {
          "base_uri": "https://localhost:8080/",
          "height": 35
        },
        "id": "moqdaQeTwa_J",
        "outputId": "46e57790-a0ac-46b3-b9e9-f274d3b3551a"
      },
      "source": [
        "my_file.read()"
      ],
      "execution_count": null,
      "outputs": [
        {
          "output_type": "execute_result",
          "data": {
            "application/vnd.google.colaboratory.intrinsic+json": {
              "type": "string"
            },
            "text/plain": [
              "'ello, this is a quick superman test file'"
            ]
          },
          "metadata": {
            "tags": []
          },
          "execution_count": 48
        }
      ]
    },
    {
      "cell_type": "code",
      "metadata": {
        "colab": {
          "base_uri": "https://localhost:8080/"
        },
        "id": "8t28pc7Xwc-A",
        "outputId": "776f04cb-7659-45bf-922f-028a40436576"
      },
      "source": [
        "my_file.seek(0)"
      ],
      "execution_count": null,
      "outputs": [
        {
          "output_type": "execute_result",
          "data": {
            "text/plain": [
              "0"
            ]
          },
          "metadata": {
            "tags": []
          },
          "execution_count": 49
        }
      ]
    },
    {
      "cell_type": "code",
      "metadata": {
        "colab": {
          "base_uri": "https://localhost:8080/"
        },
        "id": "4C6G7kFUwhQp",
        "outputId": "3b082ab4-f195-4b53-8903-9bda4e854f78"
      },
      "source": [
        "my_file.readlines()"
      ],
      "execution_count": null,
      "outputs": [
        {
          "output_type": "execute_result",
          "data": {
            "text/plain": [
              "['Hello, this is a quick superman test file']"
            ]
          },
          "metadata": {
            "tags": []
          },
          "execution_count": 50
        }
      ]
    },
    {
      "cell_type": "code",
      "metadata": {
        "colab": {
          "base_uri": "https://localhost:8080/"
        },
        "id": "8_xXmif5wjsI",
        "outputId": "9e3bd20d-35e7-471b-86f2-880ad9bc98fe"
      },
      "source": [
        "my_file.readlines()"
      ],
      "execution_count": null,
      "outputs": [
        {
          "output_type": "execute_result",
          "data": {
            "text/plain": [
              "[]"
            ]
          },
          "metadata": {
            "tags": []
          },
          "execution_count": 51
        }
      ]
    },
    {
      "cell_type": "code",
      "metadata": {
        "colab": {
          "base_uri": "https://localhost:8080/"
        },
        "id": "c2SR7JW_wkjz",
        "outputId": "ab0854de-5ba0-4c7b-b790-6a1fa907908a"
      },
      "source": [
        "my_file.seek(0)"
      ],
      "execution_count": null,
      "outputs": [
        {
          "output_type": "execute_result",
          "data": {
            "text/plain": [
              "0"
            ]
          },
          "metadata": {
            "tags": []
          },
          "execution_count": 52
        }
      ]
    },
    {
      "cell_type": "code",
      "metadata": {
        "id": "e_CHYyLjwpJo"
      },
      "source": [
        "my_file = open('superman.txt','w+')"
      ],
      "execution_count": null,
      "outputs": []
    },
    {
      "cell_type": "code",
      "metadata": {
        "colab": {
          "base_uri": "https://localhost:8080/"
        },
        "id": "X94WUJE9wu7z",
        "outputId": "19f41c51-cad8-4630-8c92-f54feefd7479"
      },
      "source": [
        "my_file.write('This is a new line')"
      ],
      "execution_count": null,
      "outputs": [
        {
          "output_type": "execute_result",
          "data": {
            "text/plain": [
              "18"
            ]
          },
          "metadata": {
            "tags": []
          },
          "execution_count": 60
        }
      ]
    },
    {
      "cell_type": "code",
      "metadata": {
        "colab": {
          "base_uri": "https://localhost:8080/",
          "height": 35
        },
        "id": "PfBi8BuFw5dP",
        "outputId": "5cf3d887-bfdb-4796-c597-5eea32c44a1e"
      },
      "source": [
        "my_file.seek(0)\n",
        "my_file.read()"
      ],
      "execution_count": null,
      "outputs": [
        {
          "output_type": "execute_result",
          "data": {
            "application/vnd.google.colaboratory.intrinsic+json": {
              "type": "string"
            },
            "text/plain": [
              "'This is a new line'"
            ]
          },
          "metadata": {
            "tags": []
          },
          "execution_count": 61
        }
      ]
    },
    {
      "cell_type": "code",
      "metadata": {
        "id": "KZbzcLUow90B"
      },
      "source": [
        "my_file = open('superman.txt','a+') #append"
      ],
      "execution_count": null,
      "outputs": []
    },
    {
      "cell_type": "code",
      "metadata": {
        "colab": {
          "base_uri": "https://localhost:8080/"
        },
        "id": "b_AYnM1qxR69",
        "outputId": "f2d8dc8a-3608-44d6-bc1c-f715f3a82185"
      },
      "source": [
        "my_file.write('\\nThis is a appended line 1')"
      ],
      "execution_count": null,
      "outputs": [
        {
          "output_type": "execute_result",
          "data": {
            "text/plain": [
              "26"
            ]
          },
          "metadata": {
            "tags": []
          },
          "execution_count": 63
        }
      ]
    },
    {
      "cell_type": "code",
      "metadata": {
        "colab": {
          "base_uri": "https://localhost:8080/"
        },
        "id": "yySd4ikdxWr0",
        "outputId": "4bd3a715-1552-47ad-db73-45ee8eacd484"
      },
      "source": [
        "my_file.seek(0)\n",
        "print(my_file.read())\n",
        "\n",
        "my_file.seek(0)\n",
        "print(my_file.readlines())"
      ],
      "execution_count": null,
      "outputs": [
        {
          "output_type": "stream",
          "text": [
            "This is a new line\n",
            "This is a appended line 1\n",
            "['This is a new line\\n', 'This is a appended line 1']\n"
          ],
          "name": "stdout"
        }
      ]
    },
    {
      "cell_type": "code",
      "metadata": {
        "colab": {
          "base_uri": "https://localhost:8080/"
        },
        "id": "Ghzab1NrxiKV",
        "outputId": "67270458-d1aa-4aba-b281-fe9a86963220"
      },
      "source": [
        "%%writefile test.txt\n",
        "First Line\n",
        "Second Line\n",
        "Third Line\n",
        "Fourth Line"
      ],
      "execution_count": null,
      "outputs": [
        {
          "output_type": "stream",
          "text": [
            "Writing test.txt\n"
          ],
          "name": "stdout"
        }
      ]
    },
    {
      "cell_type": "code",
      "metadata": {
        "colab": {
          "base_uri": "https://localhost:8080/"
        },
        "id": "AAisXbBmyrUu",
        "outputId": "1598d343-0f17-4154-a3fd-9df94800c1f8"
      },
      "source": [
        "my_file = open('test.txt')\n",
        "my_file.seek(0)\n",
        "print(my_file.read())"
      ],
      "execution_count": null,
      "outputs": [
        {
          "output_type": "stream",
          "text": [
            "First Line\n",
            "Second Line\n",
            "Third Line\n",
            "Fourth Line\n"
          ],
          "name": "stdout"
        }
      ]
    },
    {
      "cell_type": "code",
      "metadata": {
        "colab": {
          "base_uri": "https://localhost:8080/"
        },
        "id": "L-yQQZTWyu69",
        "outputId": "7cd75e69-5636-4a74-f219-985363db1623"
      },
      "source": [
        "for line in open('test.txt'):\n",
        "    print(line + \",\")"
      ],
      "execution_count": null,
      "outputs": [
        {
          "output_type": "stream",
          "text": [
            "First Line\n",
            ",\n",
            "Second Line\n",
            ",\n",
            "Third Line\n",
            ",\n",
            "Fourth Line,\n"
          ],
          "name": "stdout"
        }
      ]
    },
    {
      "cell_type": "markdown",
      "metadata": {
        "id": "3SmccH-nzN-u"
      },
      "source": [
        "# **StringIO**"
      ]
    },
    {
      "cell_type": "code",
      "metadata": {
        "id": "KuQyUIQUzAtG"
      },
      "source": [
        "from io import StringIO"
      ],
      "execution_count": null,
      "outputs": []
    },
    {
      "cell_type": "code",
      "metadata": {
        "id": "4B91sNrgzU9r"
      },
      "source": [
        "message = 'This is just a normal string.'"
      ],
      "execution_count": null,
      "outputs": []
    },
    {
      "cell_type": "code",
      "metadata": {
        "id": "_IIOMivhzYWH"
      },
      "source": [
        "f = StringIO(message)"
      ],
      "execution_count": null,
      "outputs": []
    },
    {
      "cell_type": "code",
      "metadata": {
        "colab": {
          "base_uri": "https://localhost:8080/",
          "height": 35
        },
        "id": "1SUO7-R1zav0",
        "outputId": "f6579121-338a-44ed-8915-45e60bfaf893"
      },
      "source": [
        "f.read()"
      ],
      "execution_count": null,
      "outputs": [
        {
          "output_type": "execute_result",
          "data": {
            "application/vnd.google.colaboratory.intrinsic+json": {
              "type": "string"
            },
            "text/plain": [
              "'This is just a normal string.'"
            ]
          },
          "metadata": {
            "tags": []
          },
          "execution_count": 79
        }
      ]
    },
    {
      "cell_type": "code",
      "metadata": {
        "colab": {
          "base_uri": "https://localhost:8080/",
          "height": 35
        },
        "id": "YIkUovjNzc3j",
        "outputId": "6949a1a1-2a0b-4d10-b872-a11c5a426cf0"
      },
      "source": [
        "f.read()"
      ],
      "execution_count": null,
      "outputs": [
        {
          "output_type": "execute_result",
          "data": {
            "application/vnd.google.colaboratory.intrinsic+json": {
              "type": "string"
            },
            "text/plain": [
              "''"
            ]
          },
          "metadata": {
            "tags": []
          },
          "execution_count": 80
        }
      ]
    },
    {
      "cell_type": "code",
      "metadata": {
        "colab": {
          "base_uri": "https://localhost:8080/"
        },
        "id": "l5N2z_6xzdk5",
        "outputId": "e98841b2-7703-4792-b23e-ed22597ff8f7"
      },
      "source": [
        "f.write(' Second line written to file like object')"
      ],
      "execution_count": null,
      "outputs": [
        {
          "output_type": "execute_result",
          "data": {
            "text/plain": [
              "40"
            ]
          },
          "metadata": {
            "tags": []
          },
          "execution_count": 81
        }
      ]
    },
    {
      "cell_type": "code",
      "metadata": {
        "colab": {
          "base_uri": "https://localhost:8080/",
          "height": 35
        },
        "id": "5DVvhvCYzmS9",
        "outputId": "aec7120f-989b-48de-eb1c-3ff9e24b939c"
      },
      "source": [
        "f.seek(0)\n",
        "f.read()"
      ],
      "execution_count": null,
      "outputs": [
        {
          "output_type": "execute_result",
          "data": {
            "application/vnd.google.colaboratory.intrinsic+json": {
              "type": "string"
            },
            "text/plain": [
              "'This is just a normal string. Second line written to file like object'"
            ]
          },
          "metadata": {
            "tags": []
          },
          "execution_count": 82
        }
      ]
    },
    {
      "cell_type": "code",
      "metadata": {
        "colab": {
          "base_uri": "https://localhost:8080/"
        },
        "id": "rWIlcGMLzo7X",
        "outputId": "90ce7639-513e-45f0-cb7b-1c1296163777"
      },
      "source": [
        "f.seek(0)\n",
        "f.readlines()"
      ],
      "execution_count": null,
      "outputs": [
        {
          "output_type": "execute_result",
          "data": {
            "text/plain": [
              "['This is just a normal string. Second line written to file like object']"
            ]
          },
          "metadata": {
            "tags": []
          },
          "execution_count": 83
        }
      ]
    },
    {
      "cell_type": "code",
      "metadata": {
        "colab": {
          "base_uri": "https://localhost:8080/"
        },
        "id": "mrakQK01zwYl",
        "outputId": "fb5f8b92-0248-4204-f4d5-6a6da0323701"
      },
      "source": [
        "f.write(\"\\nNew Line\")"
      ],
      "execution_count": null,
      "outputs": [
        {
          "output_type": "execute_result",
          "data": {
            "text/plain": [
              "9"
            ]
          },
          "metadata": {
            "tags": []
          },
          "execution_count": 84
        }
      ]
    },
    {
      "cell_type": "code",
      "metadata": {
        "colab": {
          "base_uri": "https://localhost:8080/"
        },
        "id": "rciwhuOIz2Av",
        "outputId": "4c2cf2dd-30f9-46e9-aefb-4ec23c3e2175"
      },
      "source": [
        "f.seek(0)\n",
        "print(f.read())"
      ],
      "execution_count": null,
      "outputs": [
        {
          "output_type": "stream",
          "text": [
            "This is just a normal string. Second line written to file like object\n",
            "New Line\n"
          ],
          "name": "stdout"
        }
      ]
    },
    {
      "cell_type": "code",
      "metadata": {
        "colab": {
          "base_uri": "https://localhost:8080/"
        },
        "id": "ywBdKeBjz4qt",
        "outputId": "578f96ee-2f4c-4928-f378-f63067a01f41"
      },
      "source": [
        "f.seek(0)\n",
        "print(f.readlines())"
      ],
      "execution_count": null,
      "outputs": [
        {
          "output_type": "stream",
          "text": [
            "['This is just a normal string. Second line written to file like object\\n', 'New Line']\n"
          ],
          "name": "stdout"
        }
      ]
    }
  ]
}